{
 "cells": [
  {
   "cell_type": "markdown",
   "metadata": {},
   "source": [
    "#### 1. 这个notebook 是利用人造数据集来测试模型对于groundtruth的拟合能力\n",
    "\n",
    "创建虚拟数据集，\n",
    "\n",
    "模型训练"
   ]
  },
  {
   "cell_type": "code",
   "execution_count": 1,
   "metadata": {},
   "outputs": [],
   "source": [
    "##虚拟数据集\n",
    "from torch.utils.data import Dataset\n",
    "import torch \n",
    "import numpy as np\n",
    "class Synthetic(Dataset):\n",
    "    def __init__(self, \n",
    "                 num_feat = 4, \n",
    "                 coefs = [0.5, 0.5, 0.5, 0.5], \n",
    "                 bias = 0.5, \n",
    "                 noise_std = 0.05, \n",
    "                 sample_size = 1000\n",
    "                 ):\n",
    "        \n",
    "        self.num_feat = num_feat\n",
    "        self.coefs = coefs\n",
    "        self.bias = bias\n",
    "        self.noise_std = noise_std\n",
    "        self.sample_size = sample_size\n",
    "    \n",
    "    def __len__(self):\n",
    "        return self.sample_size\n",
    "\n",
    "    def get_feat_and_y(self, x):\n",
    "        f0 = np.sin(x[0])\n",
    "        f1 = np.cos(x[1])\n",
    "        f2 = np.sin(2*x[2]) * np.cos(x[2])\n",
    "        f3 = np.cos(2*x[3]) * np.sin(x[3])\n",
    "\n",
    "        feat = np.array([f0, f1, f2, f3])\n",
    "        y = np.dot(feat, self.coefs) + self.bias\n",
    "        return feat, y\n",
    "\n",
    "    def __getitem__(self, idx, seed = None):\n",
    "        if seed:\n",
    "            np.random.seed(seed)\n",
    "        x = np.random.rand(self.num_feat) * 2 * np.pi\n",
    "        feat, y = self.get_feat_and_y(x)\n",
    "\n",
    "        y = y + np.random.randn() * self.noise_std        \n",
    "        return torch.tensor(x, dtype=torch.float32), torch.tensor(y, dtype=torch.float32)"
   ]
  },
  {
   "cell_type": "code",
   "execution_count": 2,
   "metadata": {},
   "outputs": [],
   "source": [
    "## model config\n",
    "from models import BaseModel\n",
    "\n",
    "config = {}\n",
    "config['modelconfig'] = {}\n",
    "config['modelconfig']['num_concepts'] = 4\n",
    "config['modelconfig']['num_classes'] = 1\n",
    "config['modelconfig']['modeltype'] = 'nbm'\n",
    "config['modelconfig']['dropout'] = 0.1\n",
    "config['modelconfig']['batchnorm'] = True\n",
    "config['modelconfig']['num_bases'] = 200\n",
    "config['modelconfig']['hidden_dims'] = (32, 32, 16)\n",
    "\n",
    "\n",
    "weight_decay = 1e-5\n",
    "batch_size = 256\n",
    "config['modelconfig']['learning_rate'] = 0.0001\n",
    "config['modelconfig']['weight_decay'] = weight_decay\n",
    "\n",
    "model = BaseModel(**config['modelconfig'])\n"
   ]
  },
  {
   "cell_type": "code",
   "execution_count": 3,
   "metadata": {},
   "outputs": [
    {
     "name": "stderr",
     "output_type": "stream",
     "text": [
      "GPU available: True (mps), used: True\n",
      "TPU available: False, using: 0 TPU cores\n",
      "IPU available: False, using: 0 IPUs\n",
      "HPU available: False, using: 0 HPUs\n",
      "/Users/menghan/mambaforge/envs/newtorch/lib/python3.10/site-packages/pytorch_lightning/callbacks/model_checkpoint.py:639: Checkpoint directory ./saved_model_New/SyntheticDataset_B200// exists and is not empty.\n",
      "\n",
      "  | Name  | Type           | Params\n",
      "-----------------------------------------\n",
      "0 | model | ConceptNBMNary | 6.4 K \n",
      "-----------------------------------------\n",
      "6.4 K     Trainable params\n",
      "0         Non-trainable params\n",
      "6.4 K     Total params\n",
      "0.026     Total estimated model params size (MB)\n"
     ]
    },
    {
     "name": "stdout",
     "output_type": "stream",
     "text": [
      "Sanity Checking: |          | 0/? [00:00<?, ?it/s]"
     ]
    },
    {
     "name": "stderr",
     "output_type": "stream",
     "text": [
      "/Users/menghan/mambaforge/envs/newtorch/lib/python3.10/site-packages/pytorch_lightning/trainer/connectors/data_connector.py:441: The 'val_dataloader' does not have many workers which may be a bottleneck. Consider increasing the value of the `num_workers` argument` to `num_workers=15` in the `DataLoader` to improve performance.\n"
     ]
    },
    {
     "name": "stdout",
     "output_type": "stream",
     "text": [
      "                                                                           "
     ]
    },
    {
     "name": "stderr",
     "output_type": "stream",
     "text": [
      "/Users/menghan/mambaforge/envs/newtorch/lib/python3.10/site-packages/pytorch_lightning/trainer/connectors/data_connector.py:441: The 'train_dataloader' does not have many workers which may be a bottleneck. Consider increasing the value of the `num_workers` argument` to `num_workers=15` in the `DataLoader` to improve performance.\n"
     ]
    },
    {
     "name": "stdout",
     "output_type": "stream",
     "text": [
      "Epoch 9:  55%|█████▌    | 22/40 [00:00<00:00, 78.94it/s, v_num=1, train_loss=0.363, val_loss=0.122]"
     ]
    },
    {
     "name": "stderr",
     "output_type": "stream",
     "text": [
      "/Users/menghan/mambaforge/envs/newtorch/lib/python3.10/site-packages/pytorch_lightning/trainer/call.py:54: Detected KeyboardInterrupt, attempting graceful shutdown...\n"
     ]
    }
   ],
   "source": [
    "import pytorch_lightning as pl\n",
    "from pytorch_lightning.callbacks import ModelCheckpoint, EarlyStopping\n",
    "\n",
    "from pytorch_lightning import Trainer\n",
    "\n",
    "model_saved_path =  f'./saved_model_New/SyntheticDataset_B200/'\n",
    "\n",
    "\n",
    "train_dataset = Synthetic(sample_size = 10000)\n",
    "val_dataset = Synthetic(sample_size = 1000)\n",
    "test_dataset = Synthetic(sample_size = 1000)\n",
    "\n",
    "datamodule = pl.LightningDataModule.from_datasets(\n",
    "            train_dataset=train_dataset,\n",
    "            val_dataset=val_dataset,\n",
    "            test_dataset=test_dataset,\n",
    "            batch_size = batch_size,\n",
    "        )\n",
    "\n",
    "modelcheckpoint = ModelCheckpoint(\n",
    "            dirpath=f'{model_saved_path}/',\n",
    "            filename = f'best_model',\n",
    "            monitor='val_loss', \n",
    "            save_top_k=1,\n",
    "            save_last=True,\n",
    "            mode='min'\n",
    "            )\n",
    "\n",
    "logger = pl.loggers.TensorBoardLogger(f'{model_saved_path}/logs/')\n",
    "earlystop = EarlyStopping(monitor='val_loss', patience=300)\n",
    "trainer = Trainer(acceler\n",
    "ator='mps', \n",
    "                devices=1,\n",
    "                max_epochs=10000,\n",
    "                callbacks=[modelcheckpoint,earlystop],\n",
    "                logger=logger,\n",
    "                log_every_n_steps = 5,\n",
    "                )\n",
    "trainer.fit(model, datamodule=datamodule)"
   ]
  },
  {
   "cell_type": "code",
   "execution_count": null,
   "metadata": {},
   "outputs": [],
   "source": []
  }
 ],
 "metadata": {
  "kernelspec": {
   "display_name": "Python 3",
   "language": "python",
   "name": "python3"
  },
  "language_info": {
   "codemirror_mode": {
    "name": "ipython",
    "version": 3
   },
   "file_extension": ".py",
   "mimetype": "text/x-python",
   "name": "python",
   "nbconvert_exporter": "python",
   "pygments_lexer": "ipython3",
   "version": "3.10.13"
  }
 },
 "nbformat": 4,
 "nbformat_minor": 2
}
